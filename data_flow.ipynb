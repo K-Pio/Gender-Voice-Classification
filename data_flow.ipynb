{
 "cells": [
  {
   "cell_type": "code",
   "execution_count": null,
   "id": "ee05aa25",
   "metadata": {},
   "outputs": [],
   "source": [
    "from torch.utils.data import DataLoader, random_split\n",
    "import torch.nn as nn\n",
    "import torch.optim as optim\n",
    "import torch\n",
    "from tqdm import tqdm"
   ]
  },
  {
   "cell_type": "code",
   "execution_count": null,
   "id": "71ad6644",
   "metadata": {},
   "outputs": [],
   "source": [
    "def train(dataloader, model, device, criterion, optimizer, epochs):\n",
    "    train_losses = []\n",
    "    val_losses = []\n",
    "\n",
    "    for epoch in range(epochs):\n",
    "        model.train()\n",
    "        running_loss = 0.0\n",
    "        prog_bar = tqdm(dataloader[\"train\"], desc=f\"Epoch {epoch + 1}/{epochs}\", unit=\"batch\")\n",
    "\n",
    "        for audio, label in prog_bar:\n",
    "            audio, label = audio.to(device), label.to(device)\n",
    "            optimizer.zero_grad()\n",
    "\n",
    "            outputs = model(audio)\n",
    "            loss = criterion(outputs, label)\n",
    "\n",
    "            loss.backward()\n",
    "            optimizer.step()\n",
    "\n",
    "            running_loss += loss.item()\n",
    "            prog_bar.set_postfix(train_loss=running_loss / len(dataloader[\"train\"]))\n",
    "\n",
    "        avg_train_loss = running_loss / len(dataloader[\"train\"])\n",
    "        train_losses.append(avg_train_loss)\n",
    "\n",
    "        avg_val_loss = validate(dataloader[\"val\"], model, device, criterion)\n",
    "        val_losses.append(avg_val_loss)\n",
    "        print(f\"Epoch {epoch + 1}: Train Loss = {avg_train_loss:.4f}, Validation Loss = {avg_val_loss:.4f}\")\n",
    "\n",
    "    return train_losses, val_losses\n",
    "\n",
    "\n",
    "def validate(dataloader, model, device, criterion):\n",
    "    model.eval()\n",
    "    val_loss = 0.0\n",
    "\n",
    "    with torch.no_grad():\n",
    "        for audio, label in dataloader:\n",
    "            audio, label = audio.to(device), label.to(device)\n",
    "            outputs = model(audio)\n",
    "            loss = criterion(outputs, label)\n",
    "            val_loss += loss.item()\n",
    "\n",
    "    return val_loss / len(dataloader)\n",
    "\n",
    "\n",
    "def test(dataloader, model, device, criterion):\n",
    "    model.eval()\n",
    "    test_loss = 0.0\n",
    "\n",
    "    with torch.no_grad():\n",
    "        for audio, label in dataloader:\n",
    "            audio, label = audio.to(device), label.to(device)\n",
    "            outputs = model(audio)\n",
    "            loss = criterion(outputs, label)\n",
    "            test_loss += loss.item()\n",
    "\n",
    "    avg_test_loss = test_loss / len(dataloader)\n",
    "    print(f\"Test Loss: {avg_test_loss:.4f}\")\n",
    "    return avg_test_loss"
   ]
  },
  {
   "cell_type": "code",
   "execution_count": null,
   "id": "bf48cc77",
   "metadata": {},
   "outputs": [],
   "source": [
    "if torch.cuda.is_available():\n",
    "    device = torch.device(\"cuda\")\n",
    "elif torch.backends.mps.is_available():\n",
    "    device = torch.device(\"mps\")\n",
    "else:\n",
    "    device = torch.device(\"cpu\")"
   ]
  },
  {
   "cell_type": "code",
   "execution_count": null,
   "id": "05579f60",
   "metadata": {},
   "outputs": [],
   "source": [
    "from data_generator import GenderDataset\n",
    "\n",
    "dataset = GenderDataset(\"data\")\n",
    "\n",
    "train_size = int(0.7 * len(dataset))\n",
    "val_size = int(0.15 * len(dataset))\n",
    "test_size = len(dataset) - train_size - val_size\n",
    "\n",
    "train_set, val_set, test_set = random_split(dataset, [train_size, val_size, test_size])\n",
    "\n",
    "dataloaders = {\n",
    "    \"train\": DataLoader(train_set, batch_size=32, shuffle=True),\n",
    "    \"val\": DataLoader(val_set, batch_size=32, shuffle=False),\n",
    "    \"test\": DataLoader(test_set, batch_size=32, shuffle=False),\n",
    "}"
   ]
  },
  {
   "cell_type": "code",
   "execution_count": null,
   "id": "4642c078",
   "metadata": {},
   "outputs": [],
   "source": [
    "from models.lstm_torch import LSTMClassifier\n",
    "from models.TCN_torch import TCNClassifier\n",
    "\n",
    "# model = LSTMClassifier(input_size=20, hidden_size=1024, num_layers=2, num_classes=2)\n",
    "model = TCNClassifier(input_size=20, num_classes=2, channels=[64, 128, 256], kernel_size=3)\n",
    "model.to(device)"
   ]
  },
  {
   "cell_type": "code",
   "execution_count": null,
   "id": "593b65cf",
   "metadata": {},
   "outputs": [],
   "source": [
    "from models.TCN_torch_custom import TinyTCN\n",
    "\n",
    "model = TinyTCN(in_features=20)\n",
    "device = torch.device(\"cpu\")\n",
    "model.to(device)"
   ]
  },
  {
   "cell_type": "code",
   "execution_count": null,
   "id": "f93609ba",
   "metadata": {},
   "outputs": [],
   "source": [
    "from models.TCN_w_cudaConv1d import TCNClassifier\n",
    "model = TCNClassifier()"
   ]
  },
  {
   "cell_type": "code",
   "execution_count": null,
   "id": "091f4c77",
   "metadata": {},
   "outputs": [],
   "source": [
    "# set loss function and optimizer\n",
    "# loss\n",
    "# criterion = nn.BCELoss() # lstm\n",
    "criterion = nn.CrossEntropyLoss() # TCN\n",
    "# optim\n",
    "optimizer = optim.Adam(model.parameters(), lr=0.001)"
   ]
  },
  {
   "cell_type": "code",
   "execution_count": null,
   "id": "36390788",
   "metadata": {},
   "outputs": [],
   "source": [
    "# Train the model and track losses\n",
    "train_losses, val_losses = train(dataloaders, model, device, criterion, optimizer, epochs=10)"
   ]
  },
  {
   "cell_type": "code",
   "execution_count": null,
   "id": "8c33389d",
   "metadata": {},
   "outputs": [],
   "source": [
    "from post_processing import save_losses, plot_losses\n",
    "\n",
    "test_loss = test(dataloaders[\"test\"], model, device, criterion)\n",
    "\n",
    "\n",
    "save_losses(train_losses, val_losses, test_loss)\n",
    "plot_losses(train_losses, val_losses, test_loss)"
   ]
  },
  {
   "cell_type": "code",
   "execution_count": null,
   "id": "198e20a1",
   "metadata": {},
   "outputs": [],
   "source": [
    "from gender_inference import predict_single\n",
    "\n",
    "audio_path = './data/male/arctic_a0001(4).wav'\n",
    "# predict_single(model, audio_path, \"cuda\", (\"f\", \"m\"))\n",
    "predict_single(model, audio_path, \"cpu\", (\"f\", \"m\"))"
   ]
  },
  {
   "cell_type": "code",
   "execution_count": null,
   "id": "6d4d4037",
   "metadata": {},
   "outputs": [],
   "source": [
    "torch.save(model, \"model.pth\")"
   ]
  }
 ],
 "metadata": {
  "kernelspec": {
   "display_name": "env_torch_custom",
   "language": "python",
   "name": "python3"
  },
  "language_info": {
   "codemirror_mode": {
    "name": "ipython",
    "version": 3
   },
   "file_extension": ".py",
   "mimetype": "text/x-python",
   "name": "python",
   "nbconvert_exporter": "python",
   "pygments_lexer": "ipython3",
   "version": "3.10.16"
  }
 },
 "nbformat": 4,
 "nbformat_minor": 5
}
