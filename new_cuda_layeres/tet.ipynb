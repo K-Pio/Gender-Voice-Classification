{
 "cells": [
  {
   "cell_type": "code",
   "execution_count": 1,
   "id": "afd49c30",
   "metadata": {},
   "outputs": [],
   "source": [
    "import torch\n",
    "from custom_conv1d_module import CustomConv1d\n"
   ]
  },
  {
   "cell_type": "code",
   "execution_count": 2,
   "id": "2444eb43",
   "metadata": {},
   "outputs": [],
   "source": [
    "B, C_in, T = 2, 3, 16\n",
    "C_out, K = 4, 5\n",
    "x = torch.randn(B, C_in, T, device='cuda', requires_grad=True)\n",
    "conv = CustomConv1d(C_in, C_out, K, stride=1, padding=2, dilation=1).cuda()"
   ]
  },
  {
   "cell_type": "code",
   "execution_count": 3,
   "id": "64ca970d",
   "metadata": {},
   "outputs": [],
   "source": [
    "y = conv(x)                      # forward"
   ]
  },
  {
   "cell_type": "code",
   "execution_count": 4,
   "id": "2fcd9d5b",
   "metadata": {},
   "outputs": [
    {
     "name": "stdout",
     "output_type": "stream",
     "text": [
      "torch.Size([2, 4, 16])\n",
      "torch.Size([4, 3, 5])\n"
     ]
    }
   ],
   "source": [
    "loss = y.pow(2).mean()\n",
    "loss.backward()                  # backward — grad po x, w, b\n",
    "\n",
    "print(y.shape)                   # torch.Size([2, 4, 16])\n",
    "print(conv.weight.grad.shape)    # torch.Size([4, 3, 5])\n"
   ]
  },
  {
   "cell_type": "code",
   "execution_count": 5,
   "id": "93718b53",
   "metadata": {},
   "outputs": [
    {
     "name": "stdout",
     "output_type": "stream",
     "text": [
      "11.8\n",
      "True\n"
     ]
    }
   ],
   "source": [
    "print(torch.version.cuda)  # powinna pokazać np. '11.8', a nie None\n",
    "print(torch.cuda.is_available())  # True jeśli CUDA działa"
   ]
  },
  {
   "cell_type": "code",
   "execution_count": 6,
   "id": "977841c7",
   "metadata": {},
   "outputs": [
    {
     "name": "stdout",
     "output_type": "stream",
     "text": [
      "torch.cuda.is_available(): True\n",
      "CUDA_HOME: None\n",
      "module file: /home/nba/custom_conv1d/custom_conv1d_out.cpython-310-x86_64-linux-gnu.so\n",
      "11.8 e2d141dbde55c2a4370fac5165b0561b6af4798b\n"
     ]
    }
   ],
   "source": [
    "import torch, custom_conv1d_out, os\n",
    "print(\"torch.cuda.is_available():\", torch.cuda.is_available())\n",
    "print(\"CUDA_HOME:\", os.environ.get(\"CUDA_HOME\") or os.environ.get(\"CUDA_PATH\"))\n",
    "print(\"module file:\", custom_conv1d_out.__file__)\n",
    "print(torch.version.cuda, torch.version.git_version)\n"
   ]
  },
  {
   "cell_type": "code",
   "execution_count": null,
   "id": "6fd29d82",
   "metadata": {},
   "outputs": [],
   "source": []
  }
 ],
 "metadata": {
  "kernelspec": {
   "display_name": "Python 3",
   "language": "python",
   "name": "python3"
  },
  "language_info": {
   "codemirror_mode": {
    "name": "ipython",
    "version": 3
   },
   "file_extension": ".py",
   "mimetype": "text/x-python",
   "name": "python",
   "nbconvert_exporter": "python",
   "pygments_lexer": "ipython3",
   "version": "3.10.12"
  }
 },
 "nbformat": 4,
 "nbformat_minor": 5
}
